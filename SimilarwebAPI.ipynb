{
 "cells": [
  {
   "cell_type": "code",
   "execution_count": 42,
   "metadata": {
    "collapsed": true
   },
   "outputs": [],
   "source": [
    "import json\n",
    "from urllib import request\n",
    "import codecs\n",
    "import numpy as np\n",
    "import pandas as pd\n",
    "from pandas.io.json import json_normalize"
   ]
  },
  {
   "cell_type": "code",
   "execution_count": 41,
   "metadata": {
    "collapsed": false
   },
   "outputs": [
    {
     "name": "stdout",
     "output_type": "stream",
     "text": [
      "Enter access token: 3\n"
     ]
    }
   ],
   "source": [
    "#API key\n",
    "access_token = input('Enter access token: ')"
   ]
  },
  {
   "cell_type": "code",
   "execution_count": 37,
   "metadata": {
    "collapsed": false
   },
   "outputs": [
    {
     "name": "stdout",
     "output_type": "stream",
     "text": [
      "Enter urls (no commas): sdfsadfga.ur gazeta.ru\n"
     ]
    }
   ],
   "source": [
    "#urls to check. no commas! format cnn.com\n",
    "urls = input('Enter urls (no commas): ')\n",
    "\n",
    "#split the input string on spaces\n",
    "input_list_all = urls.split() "
   ]
  },
  {
   "cell_type": "code",
   "execution_count": 38,
   "metadata": {
    "collapsed": false
   },
   "outputs": [
    {
     "data": {
      "text/plain": [
       "['sdfsadfga.ur', 'gazeta.ru']"
      ]
     },
     "execution_count": 38,
     "metadata": {},
     "output_type": "execute_result"
    }
   ],
   "source": [
    "input_list_all"
   ]
  },
  {
   "cell_type": "code",
   "execution_count": 39,
   "metadata": {
    "collapsed": false
   },
   "outputs": [],
   "source": [
    "urls = []\n",
    "\n",
    "for domain in input_list_all:\n",
    "    urls.append(\"https://api.similarweb.com/v1/website/\"+domain+\"/traffic-sources/referrals?api_key=\"+access_token+\"&start_date=2016-09&end_date=2016-12&main_domain_only=false\")"
   ]
  },
  {
   "cell_type": "code",
   "execution_count": 40,
   "metadata": {
    "collapsed": false
   },
   "outputs": [
    {
     "name": "stdout",
     "output_type": "stream",
     "text": [
      "No data for: https://api.similarweb.com/v1/website/sdfsadfga.ur/traffic-sources/referrals?api_key=1c36dac804f037dccaf3e02bc19c1836&start_date=2016-09&end_date=2016-12&main_domain_only=false\n"
     ]
    }
   ],
   "source": [
    "for url in urls:\n",
    "    reader = codecs.getreader(\"utf-8\")\n",
    "    jsonData = {}\n",
    "    \n",
    "    try:\n",
    "        response = request.urlopen(url)\n",
    "        \n",
    "        jsonData.update(json.load(reader(response)))\n",
    "    \n",
    "        #basic data\n",
    "        result = json_normalize(jsonData[\"referrals\"])\n",
    "    \n",
    "        #addint columns\n",
    "        result.insert(loc=2, column='Domain', value=jsonData[\"meta\"]['request']['domain'])\n",
    "        result.insert(loc=2, column='start_date', value=jsonData[\"meta\"]['request']['start_date'])\n",
    "        result.insert(loc=2, column='end_date', value=jsonData[\"meta\"]['request']['end_date'])\n",
    "        result.insert(loc=2, column='country', value=jsonData[\"meta\"]['request']['country'])\n",
    "    \n",
    "        #export to excel\n",
    "        result.to_excel(jsonData[\"meta\"]['request']['domain']+'-traffic.xlsx', encoding='utf-8')  \n",
    "    \n",
    "    except:\n",
    "        print(\"No data for: \"+url)\n",
    "   \n",
    "    \n"
   ]
  },
  {
   "cell_type": "code",
   "execution_count": null,
   "metadata": {
    "collapsed": true
   },
   "outputs": [],
   "source": []
  }
 ],
 "metadata": {
  "anaconda-cloud": {},
  "kernelspec": {
   "display_name": "Python [default]",
   "language": "python",
   "name": "python3"
  },
  "language_info": {
   "codemirror_mode": {
    "name": "ipython",
    "version": 3
   },
   "file_extension": ".py",
   "mimetype": "text/x-python",
   "name": "python",
   "nbconvert_exporter": "python",
   "pygments_lexer": "ipython3",
   "version": "3.5.2"
  }
 },
 "nbformat": 4,
 "nbformat_minor": 1
}
